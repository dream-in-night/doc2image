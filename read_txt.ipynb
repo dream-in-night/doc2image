{
 "cells": [
  {
   "metadata": {
    "ExecuteTime": {
     "end_time": "2024-11-26T05:22:17.349339Z",
     "start_time": "2024-11-26T05:22:17.343818Z"
    }
   },
   "cell_type": "code",
   "source": [
    "import chardet\n",
    "\n",
    "def detect_encoding(file_path):\n",
    "    # 以二进制模式打开文件，读取文件内容\n",
    "    with open(file_path, 'rb') as file:\n",
    "        raw_data = file.read()\n",
    "        result = chardet.detect(raw_data)  # 使用chardet检测编码\n",
    "        return result['encoding']\n"
   ],
   "id": "462da65a1a910b6b",
   "outputs": [],
   "execution_count": 3
  },
  {
   "metadata": {
    "ExecuteTime": {
     "end_time": "2024-11-26T05:22:16.313799Z",
     "start_time": "2024-11-26T05:22:02.175750Z"
    }
   },
   "cell_type": "code",
   "source": [
    "txt_path = '寻秦记.txt'\n",
    "encoding = detect_encoding(txt_path)\n",
    "print(encoding)\n"
   ],
   "id": "dabe34c26b368f42",
   "outputs": [
    {
     "name": "stdout",
     "output_type": "stream",
     "text": [
      "None\n"
     ]
    }
   ],
   "execution_count": 2
  },
  {
   "metadata": {
    "ExecuteTime": {
     "end_time": "2024-11-26T05:29:15.194410Z",
     "start_time": "2024-11-26T05:29:15.112791Z"
    }
   },
   "cell_type": "code",
   "source": [
    "f = open(txt_path, 'r', encoding=encoding)\n",
    "lines = f.read().split('\\n')\n",
    "f.close()"
   ],
   "id": "b86e541a4ed86877",
   "outputs": [
    {
     "name": "stdout",
     "output_type": "stream",
     "text": [
      "صĸõ:TXT\n",
      "ӭ:   www.txtsk.com\n",
      "?    txt飬ӭwww.txtsk.com  \n",
      "    Ԥ,24Сʱɾҵ;ϲ빺ͼ飡\u001F?:N|̑|v,{\u0003NV\u001FvQ(u\tTnff?P6q\\P\u000BN\u00020\n",
      "Í\u000BNfeg\u00020~ǏN(bXl o\tN*g\n",
      "\u0000\n",
      "\u0000p悄vSOT\u0018b/gƖ_\f_\tg\tN)YGP\u001Fg\f\n",
      "N}Y}YNS\u0000N\u000BNN\u001Fu\f\u000E`[_OO\u001Fu]Qegv\n",
      "\u0000\n",
      "\u00006rk\u00020\n",
      "\u0000\n",
      "\u0000\n",
      "\u0000\n",
      "\u0000 \u0000 \u0000 \u0000 \u0000y?\\Nt^NAS\\\fV?gfRfvݞўv\u0000@weP^vNIQ\fN\u0016b\u0005{\n",
      "N\n",
      "N/fO\u000F\\\n",
      "\u0000\n",
      "\u0000\u001Fu\fS/fcя$Ns|vؚ^\f[zp???l\tgJS[\u001AY?ZW[2wv\u00010up;m\u001AYzfv\n",
      "\u0000\n",
      "\u0000<w[w\u00010ؚ:c\u0014{vv;h\u00010Qm\u0006Wv\u00010VW[b_v8^\fM?T@wh҉\u0006R\u000Efv4Ve\u001DNEQn[sY\n",
      "\u0000\n",
      "\u0000'`\u0011c\u0017?asTv\u000Bm\u000Bm\u0011{\u000Fa\f[(W\tg@wONUOsY'`WRvagN\u00020\n",
      "\u0000\n",
      "\u0000\n",
      "\u0000\n",
      "\u0000 \u0000 \u0000 \u0000 \u0000\u001ARbۏ蕅Q\f\u0000N5mqNKNgvirSO\u0015X0WT\u0013cUX-N\fHQNN\u0000Nekegv\u001FS\u000F\\ _T\n",
      "\u0000\n",
      "\u0000[r$NN~TbNQeg\f*j\u0003NzkQ\u0012P̍\u0016Y\f{T\u001FT@w,rweg\fS/fُ(Ws^e}?f^?^{USv\n",
      "\u0000\n",
      "\u0000R\\O\fdk;R[ُ$N*Nyry\u001Fv|\u0010egtS^?^V\u00020\n"
     ]
    }
   ],
   "execution_count": 13
  },
  {
   "metadata": {
    "ExecuteTime": {
     "end_time": "2024-11-26T05:26:15.828014Z",
     "start_time": "2024-11-26T05:26:15.822256Z"
    }
   },
   "cell_type": "code",
   "source": [
    "for line in lines[:30]:\n",
    "    print(line)"
   ],
   "id": "2c2dfbc51ea3798b",
   "outputs": [
    {
     "name": "stdout",
     "output_type": "stream",
     "text": [
      "您下载的该电子书来自:TXT书库\n",
      "欢迎访问:   www.txtsk.com\n",
      "?    更多免费txt电子书，欢迎您到www.txtsk.com下载  \n",
      "    声明：本电子书仅供读者预览,请在下载24小时内删除，不得用作商业用途；如果喜欢请购买正版图书！\u001F?珗墛:N緗駛虘緗駛剉,{\u0003N釼\u001F杽v決(u\tTnff?P6q\\P\u000BN\u00020\n",
      "幟\u000BNf廵g\u00020蟸菑哊(b罼檒 o\tN*g\n",
      "\u0000\n",
      "\u0000p傛倓vSO齹孴\u0018b/g茤瓔宊\f緰梍\tg\tN)YGP\u001Fg\f\n",
      "N}Y}Y玁譙\u0000N\u000BN篘\u001Fu\f\u000E`鵞梍OO\u001Fu陙馷鶴eg剉\n",
      "\u0000\n",
      "\u00006r蚹\u00020\n",
      "\u0000\n",
      "\u0000\n",
      "\u0000\n",
      "\u0000 \u0000 \u0000 \u0000 \u0000y?\\櫉蔔t^孨AS乗\f郪?g輋Rf剉轂褳畍陼\u0000@weP穅剉甆IQ\f諲\u0016b\u0005梴\n",
      "N\n",
      "N/f駛蔕\u000F\\\n",
      "\u0000\n",
      "\u0000\u001Fu\f颯/fc褟$Ns|剉貧^\f絒﹢剒p???l\tgJS鳾\u001AY?仾ZW瀃2峸崉v寑墍\u00010up;m\u001AYzf剉\n",
      "\u0000\n",
      "\u0000<w[w\u00010貧:c\u0014{魐剉;焷h\u00010Qm\u0006W剉槰\u00010齎W[b_剉8仦^\fM?T@w駂覊\u0006R\u000Ef剉4V羍\u001DNEQ醤鵞sY\n",
      "\u0000\n",
      "\u0000'`\u0011c\u0017?asT剉\u000Bm\u000Bm\u0011{\u000Fa\f瀃(W\tg@wO鸑UOsY'`俉R梽vag鯪\u00020\n",
      "\u0000\n",
      "\u0000\n",
      "\u0000\n",
      "\u0000 \u0000 \u0000 \u0000 \u0000\u001AR亯錬蹚钑匭\f\u0000N5桏mqNKN乬剉irSO\u0015X0W孴\u0013煂c漊倸餢-N\fHQ諲霳\u0000Nekeg剉\u001F査S\u000F\\ _孴\n",
      "\u0000\n",
      "\u0000顔[r$N篘賬Tb哊鶴eg\f*j\u0003N謟kQ\u0012P虓钑\u0016Y\f{T\u001FT@w亯,rw峞g\f颯/f購(Ws^鰁}?f^?^{US剉\n",
      "\u0000\n",
      "\u0000≧\\O\fdk;R鵞購$N*Nyr蛓钀\u001F杽v緗\u0010昬g魦tS^?^餠緰\u00020\n"
     ]
    }
   ],
   "execution_count": 11
  }
 ],
 "metadata": {
  "kernelspec": {
   "name": "python3",
   "language": "python",
   "display_name": "Python 3 (ipykernel)"
  }
 },
 "nbformat": 5,
 "nbformat_minor": 9
}
