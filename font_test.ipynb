{
 "cells": [
  {
   "cell_type": "code",
   "id": "initial_id",
   "metadata": {
    "collapsed": true,
    "ExecuteTime": {
     "end_time": "2024-11-28T09:56:26.279022Z",
     "start_time": "2024-11-28T09:56:26.273006Z"
    }
   },
   "source": "from PIL import Image, ImageFont, ImageDraw",
   "outputs": [],
   "execution_count": 3
  },
  {
   "metadata": {
    "ExecuteTime": {
     "end_time": "2024-11-28T10:02:08.283829Z",
     "start_time": "2024-11-28T10:02:04.715457Z"
    }
   },
   "cell_type": "code",
   "source": [
    "im = Image.new('RGB', (500, 500), 'white')\n",
    "draw = ImageDraw.Draw(im)\n",
    "font = ImageFont.truetype('hefengshudaozhaoheyinlongchuanshen.ttf', 200) #\n",
    "draw.text((10, 10), '你好呀', fill='black', font=font)\n",
    "im.show()"
   ],
   "id": "7bc74c406e37bf6f",
   "outputs": [],
   "execution_count": 14
  },
  {
   "metadata": {
    "ExecuteTime": {
     "end_time": "2024-11-28T10:04:13.936554Z",
     "start_time": "2024-11-28T10:04:10.426079Z"
    }
   },
   "cell_type": "code",
   "source": [
    "im = Image.new('RGB', (500, 500), 'white')\n",
    "draw = ImageDraw.Draw(im)\n",
    "font = ImageFont.truetype('zaozigongfangshutiaoshaonian.otf', 100) #\n",
    "draw.text((10, 10), '你好呀', fill='black', font=font)\n",
    "draw.text((10, 300), 'hello world', fill='black', font=font)\n",
    "im.show()"
   ],
   "id": "41aead5ca23b8fbc",
   "outputs": [],
   "execution_count": 18
  },
  {
   "metadata": {
    "ExecuteTime": {
     "end_time": "2024-11-28T10:01:27.478632Z",
     "start_time": "2024-11-28T10:01:23.762137Z"
    }
   },
   "cell_type": "code",
   "source": [
    "im = Image.new('RGB', (500, 500), 'white')\n",
    "draw = ImageDraw.Draw(im)\n",
    "font = ImageFont.truetype(r'D:\\font\\fangsong_downcc.com\\fangsongziti_downcc.com\\仿宋_GB2312.ttf', 200, font=font) #\n",
    "draw.text((10, 10), '你好呀', fill='black')\n",
    "im.show()"
   ],
   "id": "ff0ecba67c0c1fc",
   "outputs": [],
   "execution_count": 13
  }
 ],
 "metadata": {
  "kernelspec": {
   "display_name": "Python 3",
   "language": "python",
   "name": "python3"
  },
  "language_info": {
   "codemirror_mode": {
    "name": "ipython",
    "version": 2
   },
   "file_extension": ".py",
   "mimetype": "text/x-python",
   "name": "python",
   "nbconvert_exporter": "python",
   "pygments_lexer": "ipython2",
   "version": "2.7.6"
  }
 },
 "nbformat": 4,
 "nbformat_minor": 5
}
